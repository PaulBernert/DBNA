{
 "cells": [
  {
   "cell_type": "code",
   "execution_count": null,
   "metadata": {},
   "outputs": [],
   "source": [
    "from selenium import webdriver\n",
    "from selenium.webdriver.common.by import By\n",
    "import time\n",
    "import pandas as pd"
   ]
  },
  {
   "cell_type": "code",
   "execution_count": null,
   "metadata": {},
   "outputs": [],
   "source": [
    "# Change this to your desired search parameter\n",
    "## Examples: \"area square miles\", \"population\", \"income per capita\"\n",
    "indicator = \"state area square miles\""
   ]
  },
  {
   "cell_type": "code",
   "execution_count": null,
   "metadata": {},
   "outputs": [],
   "source": [
    "df = pd.read_csv(\"../_data/2020-report/data_with_msas.csv\")"
   ]
  },
  {
   "cell_type": "code",
   "execution_count": null,
   "metadata": {},
   "outputs": [],
   "source": [
    "cities = (df['City']).to_frame()\n",
    "states = (df['State']).to_frame()"
   ]
  },
  {
   "cell_type": "code",
   "execution_count": null,
   "metadata": {},
   "outputs": [],
   "source": [
    "driver = webdriver.Firefox()"
   ]
  },
  {
   "cell_type": "code",
   "execution_count": null,
   "metadata": {},
   "outputs": [],
   "source": [
    "search = states+\" \"+indicator"
   ]
  },
  {
   "cell_type": "code",
   "execution_count": null,
   "metadata": {},
   "outputs": [],
   "source": [
    "areas = []\n",
    "for i in range(len(search)):\n",
    "    try:\n",
    "        query = driver.get(\"https://www.google.com\") \n",
    "        time.sleep(2)\n",
    "        driver.find_element_by_name(\"q\").send_keys(search['State'][i])\n",
    "        driver.find_element_by_name(\"q\").send_keys(u'\\ue007')\n",
    "        time.sleep(4)\n",
    "        result = driver.find_element_by_xpath('/html/body/div[5]/div[2]/div[9]/div[1]/div[2]/div/div[2]/div[2]/div/div/div[1]/div[1]/div[1]/div[1]/div/div[2]/div/div/div/div[1]').text\n",
    "        areas.append(result)\n",
    "        print(f\"{search['State'][i]}: {result}\")\n",
    "    except:\n",
    "        print(f\"{search['State'][i]}: n/a\")\n",
    "        areas.append(\"n/a\")\n",
    "        continue"
   ]
  },
  {
   "cell_type": "code",
   "execution_count": null,
   "metadata": {},
   "outputs": [],
   "source": [
    "areas = pd.DataFrame(areas)\n",
    "for a in range(len(areas)):\n",
    "    areas[0][a] = areas[0][a].split(' ')[0]"
   ]
  },
  {
   "cell_type": "code",
   "execution_count": null,
   "metadata": {},
   "outputs": [],
   "source": [
    "df = pd.DataFrame(\n",
    "    {'city': cities['City'],\n",
    "     'state': states['State'],\n",
    "     'area': areas[0]})"
   ]
  }
 ],
 "metadata": {
  "kernelspec": {
   "display_name": "Python 3",
   "language": "python",
   "name": "python3"
  },
  "language_info": {
   "codemirror_mode": {
    "name": "ipython",
    "version": 3
   },
   "file_extension": ".py",
   "mimetype": "text/x-python",
   "name": "python",
   "nbconvert_exporter": "python",
   "pygments_lexer": "ipython3",
   "version": "3.7.4"
  }
 },
 "nbformat": 4,
 "nbformat_minor": 4
}
