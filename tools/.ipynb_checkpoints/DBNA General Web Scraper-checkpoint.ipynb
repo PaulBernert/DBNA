{
 "cells": [
  {
   "cell_type": "code",
   "execution_count": 1,
   "metadata": {},
   "outputs": [],
   "source": [
    "from selenium import webdriver\n",
    "from selenium.webdriver.common.by import By\n",
    "import time\n",
    "import pandas as pd"
   ]
  },
  {
   "cell_type": "code",
   "execution_count": 2,
   "metadata": {},
   "outputs": [],
   "source": [
    "# Change this to your desired search parameter\n",
    "## Examples: \"area square miles\", \"population\", \"income per capita\"\n",
    "indicator = \"state area square miles\""
   ]
  },
  {
   "cell_type": "code",
   "execution_count": 3,
   "metadata": {},
   "outputs": [],
   "source": [
    "cities = pd.DataFrame(\n",
    "    [\"Calgary\",\"Edmonton\",\"Vancouver\",\"Winnipeg\",\"Moncton\",\"St. Johns\",\"Halifax\",\"Ottawa\",\"Toronto\",\"Montreal\",\n",
    "\"Quebec City\",\"Saskatoon\",\"Birmingham\",\"Anchorage\",\"Mesa\",\"Phoenix\",\"Tuscon\",\"Little Rock\",\"Los Angeles\",\"San Diego\",\n",
    "\"San Francisco\",\"San Jose\",\"Aurora\",\"Colorado Springs\",\"Denver\",\"Bridgeport\",\"Wilmington\",\"Washington D.C.\",\"Jacksonville\",\n",
    "\"Miami\",\"Orlando\",\"Tampa\",\"Atlanta\",\"Honolulu\",\"Boise\",\"Chicago\",\"Indianapolis\",\"Des Moines\",\"Wichita\",\n",
    "\"Lexington-Fayette County\",\"Louisville\",\"New Orleans\",\"Portland\",\"Baltimore\",\"Boston\",\"Detroit\",\"Grand Rapids\",\"Minneapolis\",\n",
    "\"St. Paul\",\"Jackson\",\"Kansas City\",\"St. Louis\",\"Billings\",\"Lincoln\",\"Omaha\",\"Henderson\",\"Las Vegas\",\"Manchester\",\"Newark\",\n",
    "\"Albuquerque\",\"Buffalo\",\"New York City\",\"Rochester\",\"Charlotte\",\"Greensboro\",\"Raleigh\",\"Fargo\",\"Cincinnati\",\"Cleveland\",\n",
    "\"Columbus\",\"Oklahoma City\",\"Tulsa\",\"Portland\",\"Philadelphia\",\"Pittsburgh\",\"Providence\",\"Charleston\",\"Sioux Falls\",\"Memphis\",\n",
    "\"Nashville\",\"Austin\",\"Dallas\",\"Houston\",\"San Antonio\",\"Salt Lake City\",\"Burlington\",\"Arlington\",\"Virginia Beach\",\"Seattle\",\n",
    "\"Charleston\",\"Milwaukee\",\"Cheyenne\",\"Aguascalientes\",\"Tijuana\",\"La Paz\",\"Campeche\",\"Tuxtla Gutiérrez\",\"Chihuahua\",\"Juárez\",\n",
    "\"Saltillo\",\"Piedras Negras\",\"Colima\",\"Durango\",\"León\",\"Acapulco\",\"Hermosillo\",\"Pachuca\",\"Guadalajara\",\"Ecatepec\",\"Naucalpan\",\n",
    "\"Nezahualcóyotl\",\"Toluca\",\"Mexico City\",\"Morelia\",\"Cuernavaca\",\"Tepic\",\"San Pedro\",\"Monterrey\",\"Oaxaca\",\"Puebla\",\"Querétaro\",\n",
    "\"Cancún\",\"San Luis Potosí\",\"Culiacán\",\"Villahermosa\",\"Reynosa\",\"Apizaco\",\"Boca del Rio\",\"Mérida\",\"Zacatecas\"])"
   ]
  },
  {
   "cell_type": "code",
   "execution_count": 4,
   "metadata": {},
   "outputs": [],
   "source": [
    "states = pd.DataFrame(\n",
    "    [\"Alberta\",\"Alberta\",\"British Columbia\",\"Manitoba\",\"New Brunswick\",\"Newfoundland and Labrador\",\"Nova Scotia\",\n",
    "\"Ontario\",\"Ontario\",\"Quebec\",\"Quebec\",\"Saskatchewan\",\"Alabama\",\"Alaska\",\"Arizona\",\"Arizona\",\"Arizona\",\"Arkansas\",\n",
    "\"California\",\"California\",\"California\",\"California\",\"Colorado\",\"Colorado\",\"Colorado\",\"Connecticut\",\"Delaware\",\n",
    "\"District of Columbia\",\"Florida\",\"Florida\",\"Florida\",\"Florida\",\"Georgia\",\"Hawaii\",\"Idaho\",\"Illinois\",\"Indiana\",\"Iowa\",\n",
    "\"Kansas\",\"Kentucky\",\"Kentucky\",\"Louisiana\",\"Maine\",\"Maryland\",\"Massachusetts\",\"Michigan\",\"Michigan\",\"Minnesota\",\"Minnesota\",\n",
    "\"Mississippi\",\"Missouri\",\"Missouri\",\"Montana\",\"Nebraska\",\"Nebraska\",\"Nevada\",\"Nevada\",\"New Hampshire\",\"New Jersey\",\n",
    "\"New Mexico\",\"New York\",\"New York\",\"New York\",\"North Carolina\",\"North Carolina\",\"North Carolina\",\"North Dakota\",\n",
    "\"Ohio\",\"Ohio\",\"Ohio\",\"Oklahoma\",\"Oklahoma\",\"Oregon\",\"Pennsylvania\",\"Pennsylvania\",\"Rhode Island\",\"South Carolina\",\n",
    "\"South Dakota\",\"Tennessee\",\"Tennessee\",\"Texas\",\"Texas\",\"Texas\",\"Texas\",\"Utah\",\"Vermont\",\"Virginia\",\"Virginia\",\"Washington\",\n",
    "\"West Virginia\",\"Wisconsin\",\"Wyoming\",\"Aguascalientes\",\"Baja California\",\"Baja California Sur\",\"Campeche\",\"Chiapas\",\n",
    "\"Chihuahua\",\"Chihuahua\",\"Coahuila\",\"Coahuila\",\"Colima\",\"Durango\",\"Guanajuato\",\"Guerrero\",\"Sonora\",\"Hidalgo\",\"Jalisco\",\n",
    "\"México\",\"México\",\"México\",\"México\",\"Mexico City\",\"Michoacán\",\"Morelos\",\"Nayarit\",\"Nuevo León\",\"Nuevo León\",\"Oaxaca\",\n",
    "\"Puebla\",\"Querétaro\",\"Quintana Roo\",\"San Luis Potosí\",\"Sinaloa\",\"Tabasco\",\"Tamaulipas\",\"Tlaxcala\",\"Veracruz\",\"Yucatán\",\n",
    "\"Zacatecas\"])"
   ]
  },
  {
   "cell_type": "code",
   "execution_count": 5,
   "metadata": {},
   "outputs": [],
   "source": [
    "driver = webdriver.Firefox()"
   ]
  },
  {
   "cell_type": "code",
   "execution_count": 6,
   "metadata": {},
   "outputs": [],
   "source": [
    "search = states+\" \"+indicator"
   ]
  },
  {
   "cell_type": "code",
   "execution_count": null,
   "metadata": {},
   "outputs": [
    {
     "name": "stdout",
     "output_type": "stream",
     "text": [
      "Alberta state area square miles: 255,541 mi²\n",
      "Alberta state area square miles: 255,541 mi²\n",
      "British Columbia state area square miles: 364,764 mi²\n",
      "Manitoba state area square miles: 250,116 mi²\n",
      "New Brunswick state area square miles: 5.79 mi²\n",
      "Newfoundland and Labrador state area square miles: 156,453 mi²\n",
      "Nova Scotia state area square miles: 21,345 mi²\n",
      "Ontario state area square miles: 415,600 mi²\n",
      "Ontario state area square miles: 415,600 mi²\n",
      "Quebec state area square miles: 644,000 mi²\n"
     ]
    }
   ],
   "source": [
    "areas = []\n",
    "for i in range(len(search)):\n",
    "    try:\n",
    "        query = driver.get(\"https://www.google.com\") \n",
    "        time.sleep(2)\n",
    "        driver.find_element_by_name(\"q\").send_keys(search[0][i])\n",
    "        driver.find_element_by_name(\"q\").send_keys(u'\\ue007')\n",
    "        time.sleep(4)\n",
    "        result = driver.find_element_by_xpath('/html/body/div[5]/div[2]/div[9]/div[1]/div[2]/div/div[2]/div[2]/div/div/div[1]/div[1]/div[1]/div[1]/div/div[2]/div/div/div/div[1]').text\n",
    "        areas.append(result)\n",
    "        print(f\"{search[0][i]}: {result}\")\n",
    "    except:\n",
    "        print(f\"{search[0][i]}: n/a\")\n",
    "        areas.append(\"n/a\")\n",
    "        continue"
   ]
  },
  {
   "cell_type": "code",
   "execution_count": null,
   "metadata": {},
   "outputs": [],
   "source": [
    "areas = pd.DataFrame(areas)\n",
    "for a in range(len(areas)):\n",
    "    areas[0][a] = areas[0][a].split(' ')[0]"
   ]
  },
  {
   "cell_type": "code",
   "execution_count": null,
   "metadata": {},
   "outputs": [],
   "source": [
    "df = pd.DataFrame(\n",
    "    {'city': cities[0],\n",
    "     'state': states[0],\n",
    "     'area': areas[0]})"
   ]
  },
  {
   "cell_type": "code",
   "execution_count": null,
   "metadata": {},
   "outputs": [],
   "source": [
    "df.to_csv('dbnaStatesSizes.csv')"
   ]
  },
  {
   "cell_type": "code",
   "execution_count": null,
   "metadata": {},
   "outputs": [],
   "source": [
    "df"
   ]
  }
 ],
 "metadata": {
  "kernelspec": {
   "display_name": "Python 3",
   "language": "python",
   "name": "python3"
  },
  "language_info": {
   "codemirror_mode": {
    "name": "ipython",
    "version": 3
   },
   "file_extension": ".py",
   "mimetype": "text/x-python",
   "name": "python",
   "nbconvert_exporter": "python",
   "pygments_lexer": "ipython3",
   "version": "3.7.4"
  }
 },
 "nbformat": 4,
 "nbformat_minor": 4
}
